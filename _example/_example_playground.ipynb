{
 "cells": [
  {
   "cell_type": "code",
   "execution_count": 7,
   "metadata": {},
   "outputs": [],
   "source": [
    "means = [0.74769837,0.60601515,0.9566438,0.50576246,0.6074215,\n",
    "                  0.75787973,0.78244185,0.83232147,0.9475962,0.79365134,\n",
    "                  0.98828584,0.8301661,0.481828,0.91554505,0.66035414,\n",
    "                  0.5361774,0.5217874,0.54608893,1,  ]"
   ]
  },
  {
   "cell_type": "code",
   "execution_count": 9,
   "metadata": {},
   "outputs": [],
   "source": [
    "new_mean = []\n",
    "for m in means:\n",
    "  m = round(m,2) - 0.1\n",
    "  if m >= 0.8:\n",
    "    v = 0.8\n",
    "  elif m < 0.5:\n",
    "    v = 0.5\n",
    "  else:\n",
    "    v = m\n",
    "  \n",
    "  new_mean.append(v)\n",
    "\n"
   ]
  },
  {
   "cell_type": "code",
   "execution_count": 11,
   "metadata": {},
   "outputs": [
    {
     "name": "stdout",
     "output_type": "stream",
     "text": [
      "[0.65, 0.51, 0.8, 0.5, 0.51, 0.66, 0.68, 0.73, 0.8, 0.6900000000000001, 0.8, 0.73, 0.5, 0.8, 0.56, 0.5, 0.5, 0.5, 0.8]\n"
     ]
    }
   ],
   "source": [
    "print(new_mean)"
   ]
  },
  {
   "cell_type": "code",
   "execution_count": 14,
   "metadata": {},
   "outputs": [
    {
     "data": {
      "text/plain": [
       "torch.Size([19])"
      ]
     },
     "execution_count": 14,
     "metadata": {},
     "output_type": "execute_result"
    }
   ],
   "source": [
    "import torch\n",
    "a = torch.tensor(new_mean)\n",
    "a.shape"
   ]
  },
  {
   "cell_type": "code",
   "execution_count": null,
   "metadata": {},
   "outputs": [],
   "source": []
  }
 ],
 "metadata": {
  "kernelspec": {
   "display_name": "test",
   "language": "python",
   "name": "python3"
  },
  "language_info": {
   "codemirror_mode": {
    "name": "ipython",
    "version": 3
   },
   "file_extension": ".py",
   "mimetype": "text/x-python",
   "name": "python",
   "nbconvert_exporter": "python",
   "pygments_lexer": "ipython3",
   "version": "3.8.20"
  }
 },
 "nbformat": 4,
 "nbformat_minor": 2
}
