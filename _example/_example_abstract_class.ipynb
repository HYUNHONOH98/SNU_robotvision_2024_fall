{
 "cells": [
  {
   "cell_type": "code",
   "execution_count": null,
   "metadata": {},
   "outputs": [],
   "source": [
    "import sys\n",
    "sys.path.appaend(\"/home/hyunho/sfda/\")"
   ]
  },
  {
   "cell_type": "code",
   "execution_count": 1,
   "metadata": {},
   "outputs": [
    {
     "name": "stderr",
     "output_type": "stream",
     "text": [
      "/home/hyunho/miniconda3/envs/openmmlab/lib/python3.8/site-packages/mmengine/optim/optimizer/zero_optimizer.py:11: DeprecationWarning: `TorchScript` support for functional optimizers is deprecated and will be removed in a future PyTorch release. Consider using the `torch.compile` optimizer instead.\n",
      "  from torch.distributed.optim import \\\n",
      "/home/hyunho/mmsegmentation/mmseg/models/losses/cross_entropy_loss.py:250: UserWarning: Default ``avg_non_ignore`` is False, if you would like to ignore the certain label and average loss over non-ignore labels, which is the same with PyTorch official cross_entropy, set ``avg_non_ignore=True``.\n",
      "  warnings.warn(\n"
     ]
    },
    {
     "data": {
      "text/plain": [
       "_IncompatibleKeys(missing_keys=[], unexpected_keys=['auxiliary_head.conv_seg.weight', 'auxiliary_head.conv_seg.bias', 'auxiliary_head.convs.0.conv.weight', 'auxiliary_head.convs.0.bn.weight', 'auxiliary_head.convs.0.bn.bias', 'auxiliary_head.convs.0.bn.running_mean', 'auxiliary_head.convs.0.bn.running_var', 'auxiliary_head.convs.0.bn.num_batches_tracked'])"
      ]
     },
     "execution_count": 1,
     "metadata": {},
     "output_type": "execute_result"
    }
   ],
   "source": [
    "from model.segmentors import EncoderDecoder\n",
    "from model.configs import MODEL\n",
    "from mmengine.config import ConfigDict\n",
    "import torch\n",
    "\n",
    "\n",
    "conf = ConfigDict(MODEL)\n",
    "model = EncoderDecoder(backbone=conf.backbone, decode_head=conf.decode_head, test_cfg=conf.test_cfg)\n",
    "model.load_state_dict(torch.load(\"/home/hyunho/sfda/deeplabv3plus_r50-d8_512x1024_40k_cityscapes_20200605_094610-d222ffcd.pth\", weights_only=True)[\"state_dict\"], strict=False)\n"
   ]
  },
  {
   "cell_type": "code",
   "execution_count": 3,
   "metadata": {},
   "outputs": [],
   "source": [
    "from PIL import Image\n",
    "import torchvision.transforms as transforms\n",
    "import torch\n",
    "\n",
    "# 이미지 파일 열기\n",
    "img_path = \"/home/hyunho/sfda/data/gta5_dataset/images/train/00001.png\"  # 이미지를 테스트할 경로\n",
    "img = Image.open(img_path)\n",
    "\n",
    "# 이미지 크기를 512x1024로 변경하고 텐서로 변환\n",
    "transform = transforms.Compose([\n",
    "    transforms.CenterCrop((512, 1024)),  # 크기 조정\n",
    "    transforms.ToTensor()            # 텐서로 변환\n",
    "])\n",
    "\n",
    "img_tensor = transform(img)\n",
    "img_tensor = img_tensor.unsqueeze(0)"
   ]
  },
  {
   "cell_type": "code",
   "execution_count": 5,
   "metadata": {},
   "outputs": [],
   "source": [
    "model.eval()\n",
    "output = model(img_tensor)"
   ]
  },
  {
   "cell_type": "code",
   "execution_count": 6,
   "metadata": {},
   "outputs": [
    {
     "data": {
      "text/plain": [
       "(1914, 1052)"
      ]
     },
     "execution_count": 6,
     "metadata": {},
     "output_type": "execute_result"
    }
   ],
   "source": [
    "img.size"
   ]
  },
  {
   "cell_type": "code",
   "execution_count": 7,
   "metadata": {},
   "outputs": [
    {
     "data": {
      "text/plain": [
       "torch.Size([1, 3, 512, 1024])"
      ]
     },
     "execution_count": 7,
     "metadata": {},
     "output_type": "execute_result"
    }
   ],
   "source": [
    "img_tensor.shape"
   ]
  },
  {
   "cell_type": "code",
   "execution_count": 8,
   "metadata": {},
   "outputs": [],
   "source": [
    "model.eval()\n",
    "output = model.inference(img_tensor, [{\"img_shape\": (512, 1024), \"ori_shape\": (1914, 1052)}])"
   ]
  },
  {
   "cell_type": "code",
   "execution_count": 9,
   "metadata": {},
   "outputs": [
    {
     "data": {
      "text/plain": [
       "torch.Size([1, 19, 512, 1024])"
      ]
     },
     "execution_count": 9,
     "metadata": {},
     "output_type": "execute_result"
    }
   ],
   "source": [
    "output.shape"
   ]
  },
  {
   "cell_type": "code",
   "execution_count": null,
   "metadata": {},
   "outputs": [],
   "source": [
    "import torch\n",
    "import matplotlib.pyplot as plt\n",
    "\n",
    "# Remove the batch dimension (1, 19, 128, 256) -> (19, 128, 256)\n",
    "tensor = output.squeeze(0)\n",
    "classes = [\n",
    "    'road', 'sidewalk', 'building', 'wall', 'fence', 'pole',\n",
    "                 'traffic light', 'traffic sign', 'vegetation', 'terrain',\n",
    "                 'sky', 'person', 'rider', 'car', 'truck', 'bus', 'train',\n",
    "                 'motorcycle', 'bicycle'\n",
    "]\n",
    "# Visualize each channel\n",
    "for i in range(tensor.size(0)):  # Loop through each channel\n",
    "    plt.imshow(tensor[i].cpu().detach().numpy(), cmap='gray')  # Convert tensor to numpy and visualize as grayscale\n",
    "    plt.title(f'{classes[i]}')\n",
    "    plt.axis('off')  # Turn off axis\n",
    "    plt.savefig(f'channel_{i+1}.png')  # Save each channel as a PNG file\n",
    "    plt.show()  # Show the image in case you want to view it during the process\n"
   ]
  },
  {
   "cell_type": "code",
   "execution_count": 4,
   "metadata": {},
   "outputs": [
    {
     "name": "stdout",
     "output_type": "stream",
     "text": [
      "(1914, 1052)\n",
      "(1052, 1914, 3)\n",
      "RGB\n"
     ]
    }
   ],
   "source": [
    "from PIL import Image\n",
    "import numpy as np\n",
    "\n",
    "label_path = \"/home/hyunho/sfda/data/gta5_dataset/images/train/00001.png\"\n",
    "label = Image.open(label_path)\n",
    "print(label.size)\n",
    "print(np.asarray(label).shape)\n",
    "print(label.mode)"
   ]
  },
  {
   "cell_type": "code",
   "execution_count": 24,
   "metadata": {},
   "outputs": [
    {
     "data": {
      "text/plain": [
       "(1914, 1052)"
      ]
     },
     "execution_count": 24,
     "metadata": {},
     "output_type": "execute_result"
    }
   ],
   "source": []
  },
  {
   "cell_type": "code",
   "execution_count": null,
   "metadata": {},
   "outputs": [],
   "source": []
  }
 ],
 "metadata": {
  "kernelspec": {
   "display_name": "openmmlab",
   "language": "python",
   "name": "python3"
  },
  "language_info": {
   "codemirror_mode": {
    "name": "ipython",
    "version": 3
   },
   "file_extension": ".py",
   "mimetype": "text/x-python",
   "name": "python",
   "nbconvert_exporter": "python",
   "pygments_lexer": "ipython3",
   "version": "3.8.20"
  }
 },
 "nbformat": 4,
 "nbformat_minor": 2
}
